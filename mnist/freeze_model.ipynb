{
 "cells": [
  {
   "cell_type": "markdown",
   "metadata": {},
   "source": [
    "# Freeze Keras Model for Deployment\n",
    "\n",
    "- Keras Model (.h5) -> Saved Model -> Frozen Model (.pb)"
   ]
  },
  {
   "cell_type": "code",
   "execution_count": 1,
   "metadata": {},
   "outputs": [],
   "source": [
    "import os\n",
    "import shutil"
   ]
  },
  {
   "cell_type": "code",
   "execution_count": 2,
   "metadata": {},
   "outputs": [],
   "source": [
    "import numpy as np"
   ]
  },
  {
   "cell_type": "code",
   "execution_count": 3,
   "metadata": {},
   "outputs": [],
   "source": [
    "import tensorflow as tf\n",
    "from tensorflow.python.tools import freeze_graph"
   ]
  },
  {
   "cell_type": "code",
   "execution_count": 4,
   "metadata": {},
   "outputs": [
    {
     "name": "stdout",
     "output_type": "stream",
     "text": [
      "TensorFlow Version: 1.12.0\n"
     ]
    }
   ],
   "source": [
    "print('TensorFlow Version: %s' % tf.__version__)"
   ]
  },
  {
   "cell_type": "markdown",
   "metadata": {},
   "source": [
    "***\n",
    "\n",
    "## Load dataset"
   ]
  },
  {
   "cell_type": "code",
   "execution_count": 5,
   "metadata": {},
   "outputs": [],
   "source": [
    "# Load dataset\n",
    "(x_train, y_train), (x_test, y_test) = tf.keras.datasets.mnist.load_data()"
   ]
  },
  {
   "cell_type": "markdown",
   "metadata": {},
   "source": [
    "***\n",
    "\n",
    "## Load Keras Model"
   ]
  },
  {
   "cell_type": "code",
   "execution_count": 6,
   "metadata": {},
   "outputs": [],
   "source": [
    "model_path = 'lenet.h5'"
   ]
  },
  {
   "cell_type": "code",
   "execution_count": 7,
   "metadata": {},
   "outputs": [],
   "source": [
    "tf.keras.backend.clear_session()\n",
    "tf.keras.backend.set_learning_phase(0)"
   ]
  },
  {
   "cell_type": "code",
   "execution_count": 8,
   "metadata": {},
   "outputs": [],
   "source": [
    "model = tf.keras.models.load_model(model_path)"
   ]
  },
  {
   "cell_type": "code",
   "execution_count": 9,
   "metadata": {},
   "outputs": [],
   "source": [
    "# model.summary()"
   ]
  },
  {
   "cell_type": "code",
   "execution_count": 10,
   "metadata": {},
   "outputs": [],
   "source": [
    "batch_size = 100\n",
    "iter = int(len(x_train)/batch_size)\n",
    "\n",
    "result_0 = np.zeros(len(x_train))\n",
    "\n",
    "for i in range(0, iter):\n",
    "    img = np.expand_dims(x_train[batch_size*i:batch_size*(i+1)], axis=3)/255\n",
    "    result_0[batch_size*i:batch_size*(i+1)] = np.argmax(model.predict(x=img, batch_size=100), axis=1)"
   ]
  },
  {
   "cell_type": "code",
   "execution_count": 11,
   "metadata": {},
   "outputs": [
    {
     "name": "stdout",
     "output_type": "stream",
     "text": [
      "Accuracy: 59894 / 60000\n"
     ]
    }
   ],
   "source": [
    "print('Accuracy: %d / %d' % (np.sum(result_0 == y_train), len(x_train)) )"
   ]
  },
  {
   "cell_type": "markdown",
   "metadata": {},
   "source": [
    "***\n",
    "\n",
    "## Convert to frozen model\n",
    "\n",
    "- https://github.com/tensorflow/tensorflow/issues/31331"
   ]
  },
  {
   "cell_type": "code",
   "execution_count": 12,
   "metadata": {},
   "outputs": [],
   "source": [
    "saved_model_dir = '_saved_model'\n",
    "frozen_model_dir = '_frozen_model'"
   ]
  },
  {
   "cell_type": "code",
   "execution_count": 13,
   "metadata": {},
   "outputs": [
    {
     "name": "stdout",
     "output_type": "stream",
     "text": [
      "WARNING:tensorflow:From /home/pentaxmedical/program/miniconda3/envs/vitis-ai-tensorflow/lib/python3.6/site-packages/tensorflow/python/saved_model/simple_save.py:85: calling SavedModelBuilder.add_meta_graph_and_variables (from tensorflow.python.saved_model.builder_impl) with legacy_init_op is deprecated and will be removed in a future version.\n",
      "Instructions for updating:\n",
      "Pass your op to the equivalent parameter main_op instead.\n",
      "INFO:tensorflow:Assets added to graph.\n",
      "INFO:tensorflow:No assets to write.\n",
      "INFO:tensorflow:SavedModel written to: _saved_model/saved_model.pb\n"
     ]
    }
   ],
   "source": [
    "# Delete existing output directory\n",
    "if os.path.exists(saved_model_dir):\n",
    "    shutil.rmtree(saved_model_dir)\n",
    "    \n",
    "tf.saved_model.simple_save(\n",
    "    tf.keras.backend.get_session(),\n",
    "    saved_model_dir,\n",
    "    inputs={\"input\": model.inputs[0]},\n",
    "    outputs={\"output\": model.outputs[0]})"
   ]
  },
  {
   "cell_type": "code",
   "execution_count": 14,
   "metadata": {},
   "outputs": [
    {
     "name": "stdout",
     "output_type": "stream",
     "text": [
      "INFO:tensorflow:Restoring parameters from _saved_model/variables/variables\n",
      "INFO:tensorflow:Froze 8 variables.\n",
      "INFO:tensorflow:Converted 8 variables to const ops.\n"
     ]
    }
   ],
   "source": [
    "if os.path.exists(frozen_model_dir):\n",
    "    shutil.rmtree(frozen_model_dir)\n",
    "os.mkdir(frozen_model_dir)\n",
    "        \n",
    "_ = freeze_graph.freeze_graph(\n",
    "    None,\n",
    "    None,\n",
    "    None,\n",
    "    None,\n",
    "    'dense_1/Softmax',\n",
    "    None,\n",
    "    None,\n",
    "    os.path.join(frozen_model_dir, \"frozen_model.pb\"),\n",
    "    False,\n",
    "    \"\",\n",
    "    input_saved_model_dir=saved_model_dir)"
   ]
  },
  {
   "cell_type": "code",
   "execution_count": 15,
   "metadata": {},
   "outputs": [],
   "source": [
    "# if os.path.exists(dst_dir):\n",
    "#     shutil.rmtree(dst_dir)\n",
    "\n",
    "# # Save in TF format (saved_model.pb)\n",
    "# model.save(dst_dir, save_format='tf', include_optimizer=False)"
   ]
  },
  {
   "cell_type": "markdown",
   "metadata": {},
   "source": [
    "***\n",
    "\n",
    "## Evaluate frozen model"
   ]
  },
  {
   "cell_type": "code",
   "execution_count": 16,
   "metadata": {},
   "outputs": [],
   "source": [
    "saved_model_path = os.path.join(frozen_model_dir, 'frozen_model.pb')"
   ]
  },
  {
   "cell_type": "code",
   "execution_count": 17,
   "metadata": {},
   "outputs": [
    {
     "data": {
      "text/plain": [
       "4804016"
      ]
     },
     "execution_count": 17,
     "metadata": {},
     "output_type": "execute_result"
    }
   ],
   "source": [
    "input_graph_def = tf.Graph().as_graph_def()\n",
    "input_graph_def.ParseFromString(tf.gfile.GFile(saved_model_path, \"rb\").read())"
   ]
  },
  {
   "cell_type": "code",
   "execution_count": 18,
   "metadata": {},
   "outputs": [
    {
     "name": "stdout",
     "output_type": "stream",
     "text": [
      "conv2d_input\n",
      "conv2d/kernel\n",
      "conv2d/bias\n",
      "conv2d/Conv2D/ReadVariableOp\n",
      "conv2d/Conv2D\n",
      "conv2d/BiasAdd/ReadVariableOp\n",
      "conv2d/BiasAdd\n",
      "conv2d/Relu\n",
      "conv2d_1/kernel\n",
      "conv2d_1/bias\n",
      "conv2d_1/Conv2D/ReadVariableOp\n",
      "conv2d_1/Conv2D\n",
      "conv2d_1/BiasAdd/ReadVariableOp\n",
      "conv2d_1/BiasAdd\n",
      "conv2d_1/Relu\n",
      "max_pooling2d/MaxPool\n",
      "dropout/Identity\n",
      "flatten/Shape\n",
      "flatten/strided_slice/stack\n",
      "flatten/strided_slice/stack_1\n",
      "flatten/strided_slice/stack_2\n",
      "flatten/strided_slice\n",
      "flatten/Reshape/shape/1\n",
      "flatten/Reshape/shape\n",
      "flatten/Reshape\n",
      "dense/kernel\n",
      "dense/bias\n",
      "dense/MatMul/ReadVariableOp\n",
      "dense/MatMul\n",
      "dense/BiasAdd/ReadVariableOp\n",
      "dense/BiasAdd\n",
      "dense/Relu\n",
      "dropout_1/Identity\n",
      "dense_1/kernel\n",
      "dense_1/bias\n",
      "dense_1/MatMul/ReadVariableOp\n",
      "dense_1/MatMul\n",
      "dense_1/BiasAdd/ReadVariableOp\n",
      "dense_1/BiasAdd\n",
      "dense_1/Softmax\n"
     ]
    }
   ],
   "source": [
    "for node in input_graph_def.node:\n",
    "    print('%s' % (node.name) )\n",
    "    \n",
    "# print('----- Output Node Candidates -----')\n",
    "# for node in input_graph_def.node:\n",
    "#     if not tf.get_default_graph().get_tensor_by_name(node.name+':0').consumers():\n",
    "#         print('%s: %s' % (node.name, tf.get_default_graph().get_tensor_by_name(node.name+':0').shape) )"
   ]
  },
  {
   "cell_type": "code",
   "execution_count": 19,
   "metadata": {},
   "outputs": [],
   "source": [
    "# Get input tensors\n",
    "input_tensor = tf.get_default_graph().get_tensor_by_name(model.inputs[0].name)"
   ]
  },
  {
   "cell_type": "code",
   "execution_count": 20,
   "metadata": {},
   "outputs": [],
   "source": [
    "# Calculate accuracy\n",
    "output_tensor = tf.get_default_graph().get_tensor_by_name('metrics/acc/ArgMax_1:0')\n",
    "# output_tensor = tf.get_default_graph().get_tensor_by_name(model.outputs[0].name)"
   ]
  },
  {
   "cell_type": "code",
   "execution_count": 21,
   "metadata": {},
   "outputs": [],
   "source": [
    "batch_size = 100\n",
    "iter = int(len(x_train)/batch_size)\n",
    "\n",
    "result = np.zeros(len(x_train))\n",
    "\n",
    "sess = tf.keras.backend.get_session()\n",
    "\n",
    "for i in range(0, iter):\n",
    "    img = np.expand_dims(x_train[batch_size*i:batch_size*(i+1)], axis=3)/255\n",
    "\n",
    "    feed_dict = {input_tensor: img}\n",
    "    out_0 = sess.run([output_tensor], feed_dict)\n",
    "    \n",
    "    result[batch_size*i:batch_size*(i+1)] = out_0[0]"
   ]
  },
  {
   "cell_type": "code",
   "execution_count": 22,
   "metadata": {},
   "outputs": [
    {
     "name": "stdout",
     "output_type": "stream",
     "text": [
      "Accuracy: 59894 / 60000\n"
     ]
    }
   ],
   "source": [
    "print('Accuracy: %d / %d' % (np.sum(result == y_train), len(x_train)) )"
   ]
  },
  {
   "cell_type": "code",
   "execution_count": null,
   "metadata": {},
   "outputs": [],
   "source": []
  }
 ],
 "metadata": {
  "kernelspec": {
   "display_name": "Python 3",
   "language": "python",
   "name": "python3"
  },
  "language_info": {
   "codemirror_mode": {
    "name": "ipython",
    "version": 3
   },
   "file_extension": ".py",
   "mimetype": "text/x-python",
   "name": "python",
   "nbconvert_exporter": "python",
   "pygments_lexer": "ipython3",
   "version": "3.6.10"
  }
 },
 "nbformat": 4,
 "nbformat_minor": 4
}
